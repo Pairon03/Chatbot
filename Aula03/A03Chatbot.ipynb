{
 "cells": [
  {
   "cell_type": "code",
   "execution_count": 6,
   "metadata": {},
   "outputs": [
    {
     "name": "stdout",
     "output_type": "stream",
     "text": [
      "Defaulting to user installation because normal site-packages is not writeable\n",
      "Collecting groq\n",
      "  Using cached groq-0.18.0-py3-none-any.whl.metadata (14 kB)\n",
      "Collecting anyio<5,>=3.5.0 (from groq)\n",
      "  Using cached anyio-4.8.0-py3-none-any.whl.metadata (4.6 kB)\n",
      "Collecting distro<2,>=1.7.0 (from groq)\n",
      "  Using cached distro-1.9.0-py3-none-any.whl.metadata (6.8 kB)\n",
      "Collecting httpx<1,>=0.23.0 (from groq)\n",
      "  Using cached httpx-0.28.1-py3-none-any.whl.metadata (7.1 kB)\n",
      "Collecting pydantic<3,>=1.9.0 (from groq)\n",
      "  Using cached pydantic-2.10.6-py3-none-any.whl.metadata (30 kB)\n",
      "Collecting sniffio (from groq)\n",
      "  Using cached sniffio-1.3.1-py3-none-any.whl.metadata (3.9 kB)\n",
      "Requirement already satisfied: typing-extensions<5,>=4.10 in c:\\users\\dsadm\\appdata\\roaming\\python\\python311\\site-packages (from groq) (4.12.2)\n",
      "Collecting idna>=2.8 (from anyio<5,>=3.5.0->groq)\n",
      "  Using cached idna-3.10-py3-none-any.whl.metadata (10 kB)\n",
      "Collecting certifi (from httpx<1,>=0.23.0->groq)\n",
      "  Using cached certifi-2025.1.31-py3-none-any.whl.metadata (2.5 kB)\n",
      "Collecting httpcore==1.* (from httpx<1,>=0.23.0->groq)\n",
      "  Using cached httpcore-1.0.7-py3-none-any.whl.metadata (21 kB)\n",
      "Collecting h11<0.15,>=0.13 (from httpcore==1.*->httpx<1,>=0.23.0->groq)\n",
      "  Using cached h11-0.14.0-py3-none-any.whl.metadata (8.2 kB)\n",
      "Collecting annotated-types>=0.6.0 (from pydantic<3,>=1.9.0->groq)\n",
      "  Using cached annotated_types-0.7.0-py3-none-any.whl.metadata (15 kB)\n",
      "Collecting pydantic-core==2.27.2 (from pydantic<3,>=1.9.0->groq)\n",
      "  Downloading pydantic_core-2.27.2-cp311-cp311-win_amd64.whl.metadata (6.7 kB)\n",
      "Using cached groq-0.18.0-py3-none-any.whl (121 kB)\n",
      "Using cached anyio-4.8.0-py3-none-any.whl (96 kB)\n",
      "Using cached distro-1.9.0-py3-none-any.whl (20 kB)\n",
      "Using cached httpx-0.28.1-py3-none-any.whl (73 kB)\n",
      "Using cached httpcore-1.0.7-py3-none-any.whl (78 kB)\n",
      "Using cached pydantic-2.10.6-py3-none-any.whl (431 kB)\n",
      "Downloading pydantic_core-2.27.2-cp311-cp311-win_amd64.whl (2.0 MB)\n",
      "   ---------------------------------------- 0.0/2.0 MB ? eta -:--:--\n",
      "   ---------------------------------------- 2.0/2.0 MB 13.8 MB/s eta 0:00:00\n",
      "Using cached sniffio-1.3.1-py3-none-any.whl (10 kB)\n",
      "Using cached annotated_types-0.7.0-py3-none-any.whl (13 kB)\n",
      "Using cached idna-3.10-py3-none-any.whl (70 kB)\n",
      "Using cached certifi-2025.1.31-py3-none-any.whl (166 kB)\n",
      "Using cached h11-0.14.0-py3-none-any.whl (58 kB)\n",
      "Installing collected packages: sniffio, pydantic-core, idna, h11, distro, certifi, annotated-types, pydantic, httpcore, anyio, httpx, groq\n",
      "Successfully installed annotated-types-0.7.0 anyio-4.8.0 certifi-2025.1.31 distro-1.9.0 groq-0.18.0 h11-0.14.0 httpcore-1.0.7 httpx-0.28.1 idna-3.10 pydantic-2.10.6 pydantic-core-2.27.2 sniffio-1.3.1\n"
     ]
    },
    {
     "name": "stderr",
     "output_type": "stream",
     "text": [
      "DEPRECATION: Loading egg at c:\\program files\\python311\\lib\\site-packages\\vboxapi-1.0-py3.11.egg is deprecated. pip 25.1 will enforce this behaviour change. A possible replacement is to use pip for package installation. Discussion can be found at https://github.com/pypa/pip/issues/12330\n"
     ]
    }
   ],
   "source": [
    "#instalaçao da biblioteca Groq\n",
    "!pip install groq"
   ]
  },
  {
   "cell_type": "code",
   "execution_count": 4,
   "metadata": {},
   "outputs": [
    {
     "name": "stdout",
     "output_type": "stream",
     "text": [
      "Defaulting to user installation because normal site-packages is not writeable\n",
      "Requirement already satisfied: pip in c:\\program files\\python311\\lib\\site-packages (23.2.1)\n",
      "Collecting pip\n",
      "  Obtaining dependency information for pip from https://files.pythonhosted.org/packages/c9/bc/b7db44f5f39f9d0494071bddae6880eb645970366d0a200022a1a93d57f5/pip-25.0.1-py3-none-any.whl.metadata\n",
      "  Downloading pip-25.0.1-py3-none-any.whl.metadata (3.7 kB)\n",
      "Downloading pip-25.0.1-py3-none-any.whl (1.8 MB)\n",
      "   ---------------------------------------- 0.0/1.8 MB ? eta -:--:--\n",
      "   ---------------------------------------- 0.0/1.8 MB ? eta -:--:--\n",
      "   ------ --------------------------------- 0.3/1.8 MB 5.0 MB/s eta 0:00:01\n",
      "   -------------------- ------------------- 0.9/1.8 MB 8.4 MB/s eta 0:00:01\n",
      "   ----------------------------- ---------- 1.4/1.8 MB 8.7 MB/s eta 0:00:01\n",
      "   ---------------------------------------- 1.8/1.8 MB 9.8 MB/s eta 0:00:00\n",
      "Installing collected packages: pip\n",
      "Successfully installed pip-25.0.1\n",
      "Note: you may need to restart the kernel to use updated packages.\n"
     ]
    },
    {
     "name": "stderr",
     "output_type": "stream",
     "text": [
      "DEPRECATION: Loading egg at c:\\program files\\python311\\lib\\site-packages\\vboxapi-1.0-py3.11.egg is deprecated. pip 23.3 will enforce this behaviour change. A possible replacement is to use pip for package installation..\n"
     ]
    }
   ],
   "source": [
    "pip install --upgrade pip"
   ]
  },
  {
   "cell_type": "code",
   "execution_count": 7,
   "metadata": {},
   "outputs": [],
   "source": [
    "from groq import Groq #realiza a importação da biblioteca\n",
    "\n",
    "#from groq import Groq #realiza a importação da biblioteca\n",
    "#inicializa o cliente com a chave da \n",
    "client = Groq(api_key='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')\n",
    "completion = client.chat.completions.create(\n",
    "    model=\"llama3-8b-8192\",\n",
    "    messages=[\n",
    "        {\"role\": \"system\",\"content\": \"Você é assistente de agricultor\"},\n",
    "        {\"role\":\"user\",\"content\":\"Qual a semente indicada para \\n no solo arenoso em maio\"}\n",
    "    \n",
    "    ],\n",
    "    temperature=0,\n",
    "    max_tokens=1024, #ajusta o token,\n",
    "    top_p=1,\n",
    "    stream= False\n",
    ")"
   ]
  },
  {
   "cell_type": "code",
   "execution_count": 9,
   "metadata": {},
   "outputs": [
    {
     "name": "stdout",
     "output_type": "stream",
     "text": [
      "Excelente pergunta!\n",
      "\n",
      "Para um solo arenoso em maio, eu recomendaria sementes que sejam resistentes à seca e ao calor, e que tenham uma boa capacidade de absorção de água. Aqui estão algumas opções de sementes que devem funcionar bem:\n",
      "\n",
      "1. Sorgo (Sorghum bicolor): O sorgo é uma cultura muito resistente à seca e ao calor, e é uma boa opção para solos arenosos. Ele também é rico em nutrientes e pode ser usado como forragem para animais.\n",
      "2. Milho (Zea mays): O milho é outro grão que se adapta bem a solos arenosos e é resistente à seca. Ele é uma cultura muito produtiva e pode ser usado para produzir grãos ou como forragem.\n",
      "3. Feijão (Phaseolus spp.): O feijão é uma leguminosa que se adapta bem a solos arenosos e é resistente à seca. Ele é rico em proteínas e pode ser usado como forragem ou para produzir grãos.\n",
      "4. Alfafa (Medicago sativa): A alfafa é uma leguminosa que se adapta bem a solos arenosos e é resistente à seca. Ela é uma boa opção para produzir forragem para animais.\n",
      "5. Trigo (Triticum aestivum): O trigo é uma cultura que se adapta bem a solos arenosos e é resistente à seca. Ele é uma boa opção para produzir grãos.\n",
      "\n",
      "Lembre-se de que é importante verificar as condições climáticas e de solo específicas do seu local antes de plantar qualquer cultura. Além disso, é sempre recomendável consultar um especialista em agricultura ou um consultor de sementes para obter mais informações sobre as melhores opções para o seu caso específico.\n"
     ]
    }
   ],
   "source": [
    "# exibe a resposta gerada\n",
    "print(completion.choices[0].message.content)"
   ]
  },
  {
   "cell_type": "code",
   "execution_count": 11,
   "metadata": {},
   "outputs": [],
   "source": [
    "import os #biblioteca do sistema operacional\n",
    "from groq import Groq "
   ]
  },
  {
   "cell_type": "code",
   "execution_count": 34,
   "metadata": {},
   "outputs": [
    {
     "name": "stdout",
     "output_type": "stream",
     "text": [
      "\n",
      " Resposta do assistente: \n",
      "\n",
      "Como assistente de agricultor, posso ajudar a melhorar a produção e a gestão da fazenda. Aqui estão algumas dicas que podem ser úteis:\n",
      "\n",
      "1. **Monitoramento de temperatura e umidade**: é importante monitorar a temperatura e a umidade do solo e do ar para tomar decisões sobre a irrigação, a aplicação de fertilizantes e a escolha de culturas.\n",
      "2. **Gestão de pragas e doenças**: é fundamental identificar e controlar pragas e doenças que podem afetar a produção. Posso ajudar a identificar sintomas e a recomendar tratamentos.\n",
      "3. **Planejamento de culturas**: posso ajudar a planejar a sequência de culturas para maximizar a produção e minimizar o uso de recursos.\n",
      "4. **Gestão de estoque**: posso ajudar a gerenciar o estoque de sementes, fertilizantes e outros insumos para garantir que haja sempre o que é necessário.\n",
      "5. **Análise de dados**: posso ajudar a analisar dados sobre a produção, como a quantidade de água utilizada, a quantidade de fertilizantes aplicados e a produtividade das culturas, para identificar áreas de melhoria.\n",
      "6. **Recomendações de tecnologias**: posso recomendar tecnologias que possam ajudar a melhorar a produção, como sistemas de irrigação automatizados, sensores de temperatura e umidade, e aplicativos para monitorar a produção.\n",
      "7. **Gestão de pessoal**: posso ajudar a gerenciar o pessoal da fazenda, incluindo a atribuição de tarefas e a monitoramento do desempenho.\n",
      "8. **Gestão de orçamento**: posso ajudar a gerenciar o orçamento da fazenda, incluindo a alocação de recursos e a identificação de áreas onde pode ser necessário reduzir despesas.\n",
      "\n",
      "Essas são apenas algumas dicas que posso oferecer como assistente de agricultor. Se você tiver alguma dúvida específica ou precisar de ajuda com um problema, sinta-se à vontade para perguntar!\n",
      "\n",
      "\n",
      " Resposta do assistente: \n",
      "\n",
      "Excelente pergunta!\n",
      "\n",
      "Em janeiro, é importante escolher solos que tenham boa drenagem e sejam ricos em nutrientes para que as plantas possam crescer saudáveis. Aqui estão algumas opções de solos ideais para plantar em janeiro:\n",
      "\n",
      "1. Solo de terra vermelha: Esses solos são ricos em nutrientes e têm boa drenagem, o que é ideal para plantas que requerem um solo bem estruturado, como tomate, abobrinha e pepino.\n",
      "2. Solo de terra amarela: Esses solos são ricos em nutrientes e têm boa capacidade de retenção de água, o que é ideal para plantas que requerem um solo um pouco mais úmido, como feijão, lentilhas e ervilhas.\n",
      "3. Solo de terra preta: Esses solos são ricos em nutrientes e têm boa capacidade de retenção de água, o que é ideal para plantas que requerem um solo um pouco mais úmido, como batata, cenoura e abobrinha.\n",
      "4. Solo de areia: Esses solos são ideais para plantas que requerem um solo bem drenado, como alface, rúcula e espinafre.\n",
      "\n",
      "Além disso, é importante lembrar que a escolha do solo também depende do clima e do tipo de planta que você deseja plantar. Por exemplo, se você está plantando em uma região com clima frio, é melhor escolher um solo que tenha boa capacidade de retenção de calor, como o solo de terra vermelha.\n",
      "\n",
      "Lembre-se de que é sempre importante realizar um teste de pH do solo antes de plantar, pois isso pode ajudar a determinar se o solo é adequado para as plantas que você deseja cultivar.\n",
      "\n",
      "Espero que isso tenha ajudado!\n",
      "\n",
      "Encerrando assistente Agro ! Até mais ! \n",
      "\n"
     ]
    }
   ],
   "source": [
    "#Define sua chave da API do GROQ\n",
    "#GROQ_API_KEY = os.getenv('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')\n",
    "client = Groq(api_key='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')\n",
    "\n",
    "#Solicita que o usuario digite o prompt\n",
    "while True: \n",
    "\n",
    "    user_prompt=input(\"Digite sua pergunta sobre agricultura: \")\n",
    "    if user_prompt.strip() ==\"15\":\n",
    "        print('Encerrando assistente Agro ! Até mais ! \\n')\n",
    "        break\n",
    "    # Faz a solicitaçao ao modelo\n",
    "    completion = client.chat.completions.create(\n",
    "    model=\"llama3-8b-8192\",\n",
    "    messages=[\n",
    "    {\"role\":\"system\",\"content\":\"Voce é assistente de agricultor\"},\n",
    "    {\"role\":\"user\",\"content\":user_prompt}\n",
    "\n",
    "    ],  \n",
    "    temperature=0,\n",
    "    max_tokens=1024, #ajusta o token,\n",
    "    top_p=1,\n",
    "    stream = False\n",
    "\n",
    "    )\n",
    "# Exibe a resposta \n",
    "    print('\\n Resposta do assistente: \\n')\n",
    "    print(completion.choices[0].message.content + \"\\n\")"
   ]
  }
 ],
 "metadata": {
  "kernelspec": {
   "display_name": "Python 3",
   "language": "python",
   "name": "python3"
  },
  "language_info": {
   "codemirror_mode": {
    "name": "ipython",
    "version": 3
   },
   "file_extension": ".py",
   "mimetype": "text/x-python",
   "name": "python",
   "nbconvert_exporter": "python",
   "pygments_lexer": "ipython3",
   "version": "3.11.5"
  }
 },
 "nbformat": 4,
 "nbformat_minor": 2
}
